{
  "nbformat": 4,
  "nbformat_minor": 0,
  "metadata": {
    "colab": {
      "name": "Assignment_1_Problem2.ipynb",
      "version": "0.3.2",
      "provenance": [],
      "collapsed_sections": []
    },
    "kernelspec": {
      "name": "python3",
      "display_name": "Python 3"
    }
  },
  "cells": [
    {
      "metadata": {
        "id": "vI_Yc4deIGlG",
        "colab_type": "code",
        "outputId": "9174beba-64e5-4c5d-d638-ce998ed26cd9",
        "colab": {
          "base_uri": "https://localhost:8080/",
          "height": 328
        }
      },
      "cell_type": "code",
      "source": [
        "import pandas as pd\n",
        "import math\n",
        "\n",
        "\n",
        "df = pd.read_csv(\"./a3.csv\", header = 0)\n",
        "init_entropy = len(df[df[\"class\"]==\"n\"])/9*math.log(9/len(df[df[\"class\"]==\"n\"]),2)+len(df[df[\"class\"]==\"y\"])/9*math.log(9/len(df[df[\"class\"]==\"y\"]),2)\n",
        "df.head(10)"
      ],
      "execution_count": 0,
      "outputs": [
        {
          "output_type": "execute_result",
          "data": {
            "text/html": [
              "<div>\n",
              "<style scoped>\n",
              "    .dataframe tbody tr th:only-of-type {\n",
              "        vertical-align: middle;\n",
              "    }\n",
              "\n",
              "    .dataframe tbody tr th {\n",
              "        vertical-align: top;\n",
              "    }\n",
              "\n",
              "    .dataframe thead th {\n",
              "        text-align: right;\n",
              "    }\n",
              "</style>\n",
              "<table border=\"1\" class=\"dataframe\">\n",
              "  <thead>\n",
              "    <tr style=\"text-align: right;\">\n",
              "      <th></th>\n",
              "      <th>a3</th>\n",
              "      <th>class</th>\n",
              "    </tr>\n",
              "  </thead>\n",
              "  <tbody>\n",
              "    <tr>\n",
              "      <th>0</th>\n",
              "      <td>1</td>\n",
              "      <td>n</td>\n",
              "    </tr>\n",
              "    <tr>\n",
              "      <th>1</th>\n",
              "      <td>3</td>\n",
              "      <td>y</td>\n",
              "    </tr>\n",
              "    <tr>\n",
              "      <th>2</th>\n",
              "      <td>4</td>\n",
              "      <td>n</td>\n",
              "    </tr>\n",
              "    <tr>\n",
              "      <th>3</th>\n",
              "      <td>4</td>\n",
              "      <td>n</td>\n",
              "    </tr>\n",
              "    <tr>\n",
              "      <th>4</th>\n",
              "      <td>5</td>\n",
              "      <td>y</td>\n",
              "    </tr>\n",
              "    <tr>\n",
              "      <th>5</th>\n",
              "      <td>6</td>\n",
              "      <td>y</td>\n",
              "    </tr>\n",
              "    <tr>\n",
              "      <th>6</th>\n",
              "      <td>7</td>\n",
              "      <td>n</td>\n",
              "    </tr>\n",
              "    <tr>\n",
              "      <th>7</th>\n",
              "      <td>7</td>\n",
              "      <td>y</td>\n",
              "    </tr>\n",
              "    <tr>\n",
              "      <th>8</th>\n",
              "      <td>8</td>\n",
              "      <td>y</td>\n",
              "    </tr>\n",
              "  </tbody>\n",
              "</table>\n",
              "</div>"
            ],
            "text/plain": [
              "   a3 class\n",
              "0   1     n\n",
              "1   3     y\n",
              "2   4     n\n",
              "3   4     n\n",
              "4   5     y\n",
              "5   6     y\n",
              "6   7     n\n",
              "7   7     y\n",
              "8   8     y"
            ]
          },
          "metadata": {
            "tags": []
          },
          "execution_count": 4
        }
      ]
    },
    {
      "metadata": {
        "id": "jWzHKajbZdJ9",
        "colab_type": "code",
        "outputId": "45201014-a244-44e0-84bc-4fd984fae766",
        "colab": {
          "base_uri": "https://localhost:8080/",
          "height": 136
        }
      },
      "cell_type": "code",
      "source": [
        "for split in range(1,8):\n",
        "  data_smaller_than_split = df[df[\"a3\"]<=split]\n",
        "  data_bigger_than_split = df[df[\"a3\"]>split]\n",
        "  \n",
        "  num_of_small = len(data_smaller_than_split)\n",
        "  num_of_big = len(data_bigger_than_split)\n",
        "  \n",
        "  num_smaller_y = len(data_smaller_than_split[data_smaller_than_split[\"class\"]==\"y\"])\n",
        "  if num_smaller_y == 0:\n",
        "    num_smaller_y = 0.0000000000000000000001\n",
        "  num_smaller_n = len(data_smaller_than_split[data_smaller_than_split[\"class\"]==\"n\"])\n",
        "  \n",
        "  num_bigger_y = len(data_bigger_than_split[data_bigger_than_split[\"class\"]==\"y\"])\n",
        "  num_bigger_n = len(data_bigger_than_split[data_bigger_than_split[\"class\"]==\"n\"])\n",
        "  if num_bigger_n == 0:\n",
        "    num_bigger_n = 0.00000000000000000000001\n",
        "    \n",
        "  entropy = num_of_small/9*(num_smaller_y/num_of_small*math.log(num_of_small/num_smaller_y, 2) + num_smaller_n/num_of_small*math.log(num_of_small/num_smaller_n,2))+num_of_big/9*(num_bigger_y/num_of_big*math.log(num_of_big/num_bigger_y,2)+num_bigger_n/num_of_big*math.log(num_of_big/num_bigger_n,2))\n",
        "  info_gain = init_entropy - entropy\n",
        "  print(\"Split Point:\", split, \"Entropy:\", entropy, \"Info Gain: \", info_gain)"
      ],
      "execution_count": 0,
      "outputs": [
        {
          "output_type": "stream",
          "text": [
            "Split Point: 1 Entropy: 0.8483857803777466 Info Gain:  0.14269027946047563\n",
            "Split Point: 2 Entropy: 0.8483857803777466 Info Gain:  0.14269027946047563\n",
            "Split Point: 3 Entropy: 0.9885107724710844 Info Gain:  0.002565287367137792\n",
            "Split Point: 4 Entropy: 0.7616392191414825 Info Gain:  0.22943684069673975\n",
            "Split Point: 5 Entropy: 0.8999850522344304 Info Gain:  0.09109100760379185\n",
            "Split Point: 6 Entropy: 0.9727652780181631 Info Gain:  0.018310781820059074\n",
            "Split Point: 7 Entropy: 0.8888888888888888 Info Gain:  0.10218717094933338\n"
          ],
          "name": "stdout"
        }
      ]
    },
    {
      "metadata": {
        "id": "0hTYcvh_4rCU",
        "colab_type": "code",
        "colab": {}
      },
      "cell_type": "code",
      "source": [
        ""
      ],
      "execution_count": 0,
      "outputs": []
    }
  ]
}