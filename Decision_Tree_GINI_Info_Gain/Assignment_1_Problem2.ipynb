{
 "cells": [
  {
   "cell_type": "code",
   "execution_count": 2,
   "metadata": {
    "colab": {
     "base_uri": "https://localhost:8080/",
     "height": 328
    },
    "colab_type": "code",
    "id": "vI_Yc4deIGlG",
    "outputId": "9174beba-64e5-4c5d-d638-ce998ed26cd9"
   },
   "outputs": [
    {
     "data": {
      "text/html": [
       "<div>\n",
       "<style scoped>\n",
       "    .dataframe tbody tr th:only-of-type {\n",
       "        vertical-align: middle;\n",
       "    }\n",
       "\n",
       "    .dataframe tbody tr th {\n",
       "        vertical-align: top;\n",
       "    }\n",
       "\n",
       "    .dataframe thead th {\n",
       "        text-align: right;\n",
       "    }\n",
       "</style>\n",
       "<table border=\"1\" class=\"dataframe\">\n",
       "  <thead>\n",
       "    <tr style=\"text-align: right;\">\n",
       "      <th></th>\n",
       "      <th>a1</th>\n",
       "      <th>a2</th>\n",
       "      <th>a3</th>\n",
       "      <th>class</th>\n",
       "    </tr>\n",
       "  </thead>\n",
       "  <tbody>\n",
       "    <tr>\n",
       "      <th>0</th>\n",
       "      <td>T</td>\n",
       "      <td>T</td>\n",
       "      <td>1</td>\n",
       "      <td>n</td>\n",
       "    </tr>\n",
       "    <tr>\n",
       "      <th>1</th>\n",
       "      <td>T</td>\n",
       "      <td>T</td>\n",
       "      <td>4</td>\n",
       "      <td>n</td>\n",
       "    </tr>\n",
       "    <tr>\n",
       "      <th>2</th>\n",
       "      <td>T</td>\n",
       "      <td>F</td>\n",
       "      <td>5</td>\n",
       "      <td>y</td>\n",
       "    </tr>\n",
       "    <tr>\n",
       "      <th>3</th>\n",
       "      <td>F</td>\n",
       "      <td>F</td>\n",
       "      <td>4</td>\n",
       "      <td>n</td>\n",
       "    </tr>\n",
       "    <tr>\n",
       "      <th>4</th>\n",
       "      <td>F</td>\n",
       "      <td>T</td>\n",
       "      <td>7</td>\n",
       "      <td>y</td>\n",
       "    </tr>\n",
       "    <tr>\n",
       "      <th>5</th>\n",
       "      <td>F</td>\n",
       "      <td>T</td>\n",
       "      <td>6</td>\n",
       "      <td>y</td>\n",
       "    </tr>\n",
       "    <tr>\n",
       "      <th>6</th>\n",
       "      <td>F</td>\n",
       "      <td>F</td>\n",
       "      <td>8</td>\n",
       "      <td>y</td>\n",
       "    </tr>\n",
       "    <tr>\n",
       "      <th>7</th>\n",
       "      <td>T</td>\n",
       "      <td>F</td>\n",
       "      <td>7</td>\n",
       "      <td>n</td>\n",
       "    </tr>\n",
       "    <tr>\n",
       "      <th>8</th>\n",
       "      <td>F</td>\n",
       "      <td>T</td>\n",
       "      <td>3</td>\n",
       "      <td>y</td>\n",
       "    </tr>\n",
       "  </tbody>\n",
       "</table>\n",
       "</div>"
      ],
      "text/plain": [
       "  a1 a2  a3 class\n",
       "0  T  T   1     n\n",
       "1  T  T   4     n\n",
       "2  T  F   5     y\n",
       "3  F  F   4     n\n",
       "4  F  T   7     y\n",
       "5  F  T   6     y\n",
       "6  F  F   8     y\n",
       "7  T  F   7     n\n",
       "8  F  T   3     y"
      ]
     },
     "execution_count": 2,
     "metadata": {},
     "output_type": "execute_result"
    }
   ],
   "source": [
    "import pandas as pd\n",
    "import math\n",
    "\n",
    "df = pd.read_csv(\"./Table1.csv\", header = 0)\n",
    "init_entropy = len(df[df[\"class\"]==\"n\"])/9*math.log(9/len(df[df[\"class\"]==\"n\"]),2)+len(df[df[\"class\"]==\"y\"])/9*math.log(9/len(df[df[\"class\"]==\"y\"]),2)\n",
    "df.head(10)"
   ]
  },
  {
   "cell_type": "code",
   "execution_count": null,
   "metadata": {},
   "outputs": [],
   "source": [
    "#(c) For a3, which is a continuous attribute, compute the information gain for every possible split.\n",
    "#(d) What is the best split (among a1, a2 and a3) according to the information gain?\n",
    "#(e) What is the best split (between a1 and a2) according to the classiﬁcation error rate?\n",
    "#(f) What is the best split (between a1 and a2) according to the Gini index."
   ]
  },
  {
   "cell_type": "code",
   "execution_count": 3,
   "metadata": {},
   "outputs": [
    {
     "data": {
      "text/html": [
       "<div>\n",
       "<style scoped>\n",
       "    .dataframe tbody tr th:only-of-type {\n",
       "        vertical-align: middle;\n",
       "    }\n",
       "\n",
       "    .dataframe tbody tr th {\n",
       "        vertical-align: top;\n",
       "    }\n",
       "\n",
       "    .dataframe thead th {\n",
       "        text-align: right;\n",
       "    }\n",
       "</style>\n",
       "<table border=\"1\" class=\"dataframe\">\n",
       "  <thead>\n",
       "    <tr style=\"text-align: right;\">\n",
       "      <th></th>\n",
       "      <th>a1</th>\n",
       "      <th>a2</th>\n",
       "      <th>a3</th>\n",
       "      <th>class</th>\n",
       "    </tr>\n",
       "  </thead>\n",
       "  <tbody>\n",
       "    <tr>\n",
       "      <th>0</th>\n",
       "      <td>T</td>\n",
       "      <td>T</td>\n",
       "      <td>1</td>\n",
       "      <td>n</td>\n",
       "    </tr>\n",
       "    <tr>\n",
       "      <th>1</th>\n",
       "      <td>T</td>\n",
       "      <td>T</td>\n",
       "      <td>4</td>\n",
       "      <td>n</td>\n",
       "    </tr>\n",
       "    <tr>\n",
       "      <th>2</th>\n",
       "      <td>T</td>\n",
       "      <td>F</td>\n",
       "      <td>5</td>\n",
       "      <td>y</td>\n",
       "    </tr>\n",
       "    <tr>\n",
       "      <th>7</th>\n",
       "      <td>T</td>\n",
       "      <td>F</td>\n",
       "      <td>7</td>\n",
       "      <td>n</td>\n",
       "    </tr>\n",
       "  </tbody>\n",
       "</table>\n",
       "</div>"
      ],
      "text/plain": [
       "  a1 a2  a3 class\n",
       "0  T  T   1     n\n",
       "1  T  T   4     n\n",
       "2  T  F   5     y\n",
       "7  T  F   7     n"
      ]
     },
     "execution_count": 3,
     "metadata": {},
     "output_type": "execute_result"
    }
   ],
   "source": [
    "df[df[\"a1\"]==\"T\"].head(10)"
   ]
  },
  {
   "cell_type": "code",
   "execution_count": 42,
   "metadata": {
    "colab": {
     "base_uri": "https://localhost:8080/",
     "height": 136
    },
    "colab_type": "code",
    "id": "jWzHKajbZdJ9",
    "outputId": "45201014-a244-44e0-84bc-4fd984fae766"
   },
   "outputs": [
    {
     "name": "stdout",
     "output_type": "stream",
     "text": [
      "Split Point: 1 Entropy:0.848386 Info Gain:0.142690 \n",
      "Split Point: 2 Entropy:0.848386 Info Gain:0.142690 \n",
      "Split Point: 3 Entropy:0.988511 Info Gain:0.002565 \n",
      "Split Point: 4 Entropy:0.761639 Info Gain:0.229437 \n",
      "Split Point: 5 Entropy:0.899985 Info Gain:0.091091 \n",
      "Split Point: 6 Entropy:0.972765 Info Gain:0.018311 \n",
      "Split Point: 7 Entropy:0.888889 Info Gain:0.102187 \n"
     ]
    }
   ],
   "source": [
    "for split in range(1,8):\n",
    "  data_smaller_than_split = df[df[\"a3\"]<=split]\n",
    "  data_bigger_than_split = df[df[\"a3\"]>split]\n",
    "  \n",
    "  num_of_small = len(data_smaller_than_split)\n",
    "  num_of_big = len(data_bigger_than_split)\n",
    "  \n",
    "  num_smaller_y = len(data_smaller_than_split[data_smaller_than_split[\"class\"]==\"y\"])\n",
    "  if num_smaller_y == 0:\n",
    "    num_smaller_y = 0.0000000000000000000001\n",
    "  num_smaller_n = len(data_smaller_than_split[data_smaller_than_split[\"class\"]==\"n\"])\n",
    "  \n",
    "  num_bigger_y = len(data_bigger_than_split[data_bigger_than_split[\"class\"]==\"y\"])\n",
    "  num_bigger_n = len(data_bigger_than_split[data_bigger_than_split[\"class\"]==\"n\"])\n",
    "  if num_bigger_n == 0:\n",
    "    num_bigger_n = 0.00000000000000000000001\n",
    "    \n",
    "  entropy = num_of_small/9*(num_smaller_y/num_of_small*math.log(num_of_small/num_smaller_y, 2) + num_smaller_n/num_of_small*math.log(num_of_small/num_smaller_n,2))+num_of_big/9*(num_bigger_y/num_of_big*math.log(num_of_big/num_bigger_y,2)+num_bigger_n/num_of_big*math.log(num_of_big/num_bigger_n,2))\n",
    "  info_gain = init_entropy - entropy\n",
    "  print(\"Split Point:\", split, \"Entropy:%05f\"%entropy, \"Info Gain:%05f \"%info_gain)"
   ]
  },
  {
   "cell_type": "code",
   "execution_count": null,
   "metadata": {},
   "outputs": [],
   "source": [
    "#So the Best Split point is to split at the point 4.5 with a info gain 0.229437. "
   ]
  },
  {
   "cell_type": "code",
   "execution_count": 5,
   "metadata": {
    "colab": {},
    "colab_type": "code",
    "id": "0hTYcvh_4rCU",
    "scrolled": true
   },
   "outputs": [
    {
     "name": "stdout",
     "output_type": "stream",
     "text": [
      "1\n",
      "split with a1's Entropy:0.761639 info_gain: 0.229437\n",
      "split with a2's Entropy:0.983861 info_gain: 0.007215\n"
     ]
    }
   ],
   "source": [
    "df_a1_T = df[df[\"a1\"]==\"T\"]\n",
    "df_a1_F = df[df[\"a1\"]==\"F\"]\n",
    "df_a2_T = df[df[\"a2\"]==\"T\"]\n",
    "df_a2_F = df[df[\"a2\"]==\"F\"]\n",
    "\n",
    "num_a1_T = len(df_a1_T)\n",
    "num_a1_F = len(df_a1_F)\n",
    "num_a2_T = len(df_a2_T)\n",
    "num_a2_F = len(df_a2_F)\n",
    "\n",
    "num_a1_T_y = len(df_a1_T[df_a1_T[\"class\"]==\"y\"])\n",
    "num_a1_T_n = len(df_a1_T[df_a1_T[\"class\"]==\"n\"])\n",
    "num_a1_F_y = len(df_a1_F[df_a1_F['class']== 'y'])\n",
    "num_a1_F_n = len(df_a1_F[df_a1_F['class']=='n'])\n",
    "\n",
    "num_a2_T_y = len(df_a2_T[df_a2_T[\"class\"]==\"y\"])\n",
    "num_a2_T_n = len(df_a2_T[df_a2_T[\"class\"]==\"n\"])\n",
    "num_a2_F_y = len(df_a2_F[df_a2_F['class']== 'y'])\n",
    "num_a2_F_n = len(df_a2_F[df_a2_F['class']=='n'])\n",
    "\n",
    "\n",
    "print(num_a1_T_y)\n",
    "Entropy_a1 = num_a1_T/9*(num_a1_T_y/num_a1_T*math.log(num_a1_T/num_a1_T_y,2)+num_a1_T_n/num_a1_T*math.log(num_a1_T/num_a1_T_n,2))+num_a1_F/9*(num_a1_F_y/num_a1_F*math.log(num_a1_F/num_a1_F_y,2)+num_a1_F_n/num_a1_F*math.log(num_a1_F/num_a1_F_n,2))\n",
    "print(\"split with a1's Entropy:%05f\"%Entropy_a1,\"info_gain: %05f\"%(init_entropy- Entropy_a1))\n",
    "Entropy_a2 = num_a2_T/9*(num_a2_T_y/num_a2_T*math.log(num_a2_T/num_a2_T_y,2)+num_a2_T_n/num_a2_T*math.log(num_a2_T/num_a2_T_n,2))+num_a2_F/9*(num_a2_F_y/num_a2_F*math.log(num_a2_F/num_a2_F_y,2)+num_a2_F_n/num_a2_F*math.log(num_a2_F/num_a2_F_n,2))\n",
    "print(\"split with a2's Entropy:%05f\"%Entropy_a2, \"info_gain: %05f\"%(init_entropy - Entropy_a2))"
   ]
  },
  {
   "cell_type": "code",
   "execution_count": null,
   "metadata": {},
   "outputs": [],
   "source": [
    "#To split the data with a1 and a3's 4.5 split point will get the same best entropy."
   ]
  },
  {
   "cell_type": "code",
   "execution_count": 8,
   "metadata": {},
   "outputs": [
    {
     "name": "stdout",
     "output_type": "stream",
     "text": [
      "Gini index of a1: 0.344444\n"
     ]
    }
   ],
   "source": [
    "GINI_a1 = num_a1_T/len(df)*(1-(num_a1_T_y/num_a1_T)**2-(num_a1_T_n/num_a1_T)**2)+num_a1_F/len(df)*(1-(num_a1_F_y/num_a1_F)**2-(num_a1_F_n/num_a1_F)**2)\n",
    "print(\"Gini index of a1: %05f\"%GINI_a1)"
   ]
  },
  {
   "cell_type": "code",
   "execution_count": 9,
   "metadata": {},
   "outputs": [
    {
     "name": "stdout",
     "output_type": "stream",
     "text": [
      "Gini index of a2: 0.488889\n"
     ]
    }
   ],
   "source": [
    "GINI_a2 = num_a2_T/len(df)*(1-(num_a2_T_y/num_a2_T)**2-(num_a2_T_n/num_a2_T)**2)+num_a2_F/len(df)*(1-(num_a2_F_y/num_a2_F)**2-(num_a2_F_n/num_a2_F)**2)\n",
    "print(\"Gini index of a2: %05f\" %GINI_a2)"
   ]
  }
 ],
 "metadata": {
  "colab": {
   "collapsed_sections": [],
   "name": "Assignment_1_Problem2.ipynb",
   "provenance": [],
   "version": "0.3.2"
  },
  "kernelspec": {
   "display_name": "Python 3",
   "language": "python",
   "name": "python3"
  },
  "language_info": {
   "codemirror_mode": {
    "name": "ipython",
    "version": 3
   },
   "file_extension": ".py",
   "mimetype": "text/x-python",
   "name": "python",
   "nbconvert_exporter": "python",
   "pygments_lexer": "ipython3",
   "version": "3.7.1"
  }
 },
 "nbformat": 4,
 "nbformat_minor": 1
}
